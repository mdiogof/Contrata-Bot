{
  "nbformat": 4,
  "nbformat_minor": 0,
  "metadata": {
    "colab": {
      "provenance": [],
      "toc_visible": true,
      "authorship_tag": "ABX9TyPhyUMCYbotferjK3rrCllu",
      "include_colab_link": true
    },
    "kernelspec": {
      "name": "python3",
      "display_name": "Python 3"
    },
    "language_info": {
      "name": "python"
    }
  },
  "cells": [
    {
      "cell_type": "markdown",
      "metadata": {
        "id": "view-in-github",
        "colab_type": "text"
      },
      "source": [
        "<a href=\"https://colab.research.google.com/github/mdiogof/Contrata-Bot/blob/main/Contrata_Bot.ipynb\" target=\"_parent\"><img src=\"https://colab.research.google.com/assets/colab-badge.svg\" alt=\"Open In Colab\"/></a>"
      ]
    },
    {
      "cell_type": "code",
      "execution_count": 43,
      "metadata": {
        "id": "hsNGJmH24oqN"
      },
      "outputs": [],
      "source": [
        "%pip -q install google-genai"
      ]
    },
    {
      "cell_type": "code",
      "source": [
        "%pip -q install google-adk"
      ],
      "metadata": {
        "id": "xpfO8iaKBK9W"
      },
      "execution_count": 44,
      "outputs": []
    },
    {
      "cell_type": "code",
      "source": [
        "import os\n",
        "from google.colab import userdata\n",
        "\n",
        "os.environ[\"GOOGLE_API_KEY\"] = userdata.get('GOOGLE_API_KEY')"
      ],
      "metadata": {
        "id": "IdEcjBdv6iBt"
      },
      "execution_count": 45,
      "outputs": []
    },
    {
      "cell_type": "code",
      "source": [],
      "metadata": {
        "id": "PcaccJq26-WX"
      },
      "execution_count": 46,
      "outputs": []
    },
    {
      "cell_type": "code",
      "source": [
        "from google.adk.agents import Agent\n",
        "from google.adk.runners import Runner\n",
        "from google.adk.sessions import InMemorySessionService\n",
        "from google.adk.tools import google_search\n",
        "from google.genai import types\n",
        "from datetime import date\n",
        "import textwrap\n",
        "from IPython.display import Markdown, display\n",
        "from IPython.display import display, HTML\n",
        "import requests\n",
        "import warnings\n",
        "import json\n",
        "import re\n",
        "\n",
        "warnings.filterwarnings(\"ignore\")"
      ],
      "metadata": {
        "id": "LkGnMQJz7Oj3"
      },
      "execution_count": 70,
      "outputs": []
    },
    {
      "cell_type": "code",
      "source": [
        "# Função auxiliar que envia uma mensagem para um agente via Runner e retorna a resposta final\n",
        "def call_agent(agent: Agent, message_text: str) -> str:\n",
        "    # Cria um serviço de sessão em memória\n",
        "    session_service = InMemorySessionService()\n",
        "    # Cria uma nova sessão (você pode personalizar os IDs conforme necessário)\n",
        "    session = session_service.create_session(app_name=agent.name, user_id=\"user1\", session_id=\"session1\")\n",
        "    # Cria um Runner para o agente\n",
        "    runner = Runner(agent=agent, app_name=agent.name, session_service=session_service)\n",
        "    # Cria o conteúdo da mensagem de entrada\n",
        "    content = types.Content(role=\"user\", parts=[types.Part(text=message_text)])\n",
        "\n",
        "    final_response = \"\"\n",
        "    # Itera assincronamente pelos eventos retornados durante a execução do agente\n",
        "    for event in runner.run(user_id=\"user1\", session_id=\"session1\", new_message=content):\n",
        "        if event.is_final_response():\n",
        "          for part in event.content.parts:\n",
        "            if part.text is not None:\n",
        "              final_response += part.text\n",
        "              final_response += \"\\n\"\n",
        "    return final_response"
      ],
      "metadata": {
        "id": "EwFCbSSwCQvS"
      },
      "execution_count": 48,
      "outputs": []
    },
    {
      "cell_type": "code",
      "source": [
        "def to_markdown(text):\n",
        "  text = text.replace('•', '  *')\n",
        "  return Markdown(textwrap.indent(text, '> ', predicate = lambda _: True))"
      ],
      "metadata": {
        "id": "XPsAosEYEeNK"
      },
      "execution_count": 49,
      "outputs": []
    },
    {
      "cell_type": "code",
      "source": [
        "def agente_buscador(curso, local, cargo, data_de_hoje):\n",
        "  buscador = Agent(\n",
        "      name = \"agente_buscador\",\n",
        "      model = \"gemini-2.0-flash\",\n",
        "      instruction = \"\"\"\n",
        "      Você é um assistente de busca. Sua função é usar a ferramenta de pesquisa\n",
        "      do Google (google_search) para encontrar vagas de emprego, baseando-se no\n",
        "      curso informado abaixo. Considere também o local informado e o cargo\n",
        "      desejado na empresa. Essa busca deve focar em ofertas de emprego atuais,\n",
        "      de no máximo duas semanas antes da data de hoje. Confira se a vaga ainda\n",
        "      está aberta e inclua a data de publicação de cada vaga.\n",
        "      \"\"\",\n",
        "      description = \"Agente que encontra vagas de emprego no Google\",\n",
        "      tools = [google_search]\n",
        "  )\n",
        "\n",
        "  entrada_agente_buscador = f\"Curso: {curso}\\nLocal: {local}\\nCargo: {cargo}\\nData de hoje: {data_de_hoje}\"\n",
        "  vagas = call_agent(buscador, entrada_agente_buscador)\n",
        "  return vagas"
      ],
      "metadata": {
        "id": "dHp4OdIBFHi9"
      },
      "execution_count": 65,
      "outputs": []
    },
    {
      "cell_type": "code",
      "source": [
        "def agente_seletor(vagas_encontradas, periodo):\n",
        "    seletor = Agent(\n",
        "        name=\"agente_seletor\",\n",
        "        model=\"gemini-2.0-flash\",\n",
        "        instruction=\"\"\"\n",
        "        Você é um agente seletor de vagas de emprego para estudantes do ensino superior.\n",
        "        Sua função é refinar a seleção das vagas com base na relevância em relação ao período de curso informado.\n",
        "\n",
        "        🔸 Responda apenas com um JSON puro como este:\n",
        "        [\n",
        "          {\"titulo\": \"Estágio em Desenvolvimento - Empresa X\", \"link\": \"https://example.com/vaga1\"},\n",
        "          {\"titulo\": \"Estágio em Hardware - Empresa Y\", \"link\": \"https://example.com/vaga2\"}\n",
        "        ]\n",
        "\n",
        "        ⚠️ Não inclua texto explicativo, markdown ou código markdown (```json).\n",
        "        ⚠️ Não invente vagas, use apenas as fornecidas.\n",
        "        \"\"\",\n",
        "        description=\"Agente que refina a busca de vagas de emprego\",\n",
        "        tools=[google_search]\n",
        "    )\n",
        "\n",
        "    entrada = f\"Vagas: {vagas_encontradas}\\nPeríodo: {periodo}\"\n",
        "    resposta = call_agent(seletor, entrada)\n",
        "\n",
        "    # Extração de JSON usando expressão regular\n",
        "    match = re.search(r'\\[.*?\\]', resposta, re.DOTALL)\n",
        "    if match:\n",
        "        try:\n",
        "            vagas_json = json.loads(match.group())\n",
        "            return vagas_json\n",
        "        except json.JSONDecodeError:\n",
        "            print(\"⚠️ Erro ao decodificar JSON.\")\n",
        "            return []\n",
        "    else:\n",
        "        print(\"⚠️ Nenhum JSON válido encontrado na resposta.\")\n",
        "        return []"
      ],
      "metadata": {
        "id": "F-DNzYLxLRJg"
      },
      "execution_count": 68,
      "outputs": []
    },
    {
      "cell_type": "code",
      "source": [
        "def exibidor_de_links(vagas_selecionadas):\n",
        "    # Gerar os botões HTML com base nas vagas\n",
        "    botoes_html = \"\"\n",
        "    for vaga in vagas_selecionadas:\n",
        "        titulo = vaga[\"titulo\"]\n",
        "        link = vaga[\"link\"]\n",
        "        botoes_html += f\"\"\"\n",
        "        <a href=\"{link}\" target=\"_blank\" style=\"text-decoration:none;\">\n",
        "            <button style=\"\n",
        "                background-color:#4CAF50;\n",
        "                color:white;\n",
        "                padding:10px 20px;\n",
        "                margin:5px;\n",
        "                border:none;\n",
        "                border-radius:5px;\n",
        "                cursor:pointer;\n",
        "                font-size:16px;\n",
        "            \">{titulo}</button>\n",
        "        </a>\n",
        "        \"\"\"\n",
        "\n",
        "    # Exibir os botões\n",
        "    return botoes_html"
      ],
      "metadata": {
        "id": "_hDZtQpTajG1"
      },
      "execution_count": 63,
      "outputs": []
    },
    {
      "cell_type": "code",
      "source": [
        "data_de_hoje = date.today().strftime(\"%d/%m/%Y\")\n",
        "\n",
        "print(\"\"\"Olá, você acessou o Contrata Bot!\\n\n",
        "Antes de te mostrar a oportunidade certa, vou precisar de algumas informações.\"\"\")\n",
        "curso = input(\"Primeiro, digite o curso que você faz: \")\n",
        "periodo = input(\"E em qual período de curso você está? \")\n",
        "local = input(\"Agora, digite a região que você quer encontrar vagas: \")\n",
        "cargo = input(\"Por fim, digite o cargo que você quer: \")\n",
        "\n",
        "if not curso or not local or not cargo:\n",
        "  print(\"Você precisa preencher todos os campos!\")\n",
        "else:\n",
        "  print(\"Perfeito, vou procurar vagas para você!\")\n",
        "\n",
        "  vagas = agente_buscador(curso, local, cargo, data_de_hoje)\n",
        "  print(\"\\n--- Vagas encontradas pelo agente 1 (Buscador) ---\\n\")\n",
        "  display(to_markdown(vagas))\n",
        "  print(\"----------------------------------------------------\\n\")\n",
        "\n",
        "  vagas_selecionadas = agente_seletor(vagas, periodo)\n",
        "  print(\"\\n--- Essas são as vagas mais relevantes para você no momento---\\n\")\n",
        "  display(HTML(exibidor_de_links(vagas_selecionadas)))"
      ],
      "metadata": {
        "colab": {
          "base_uri": "https://localhost:8080/",
          "height": 664
        },
        "id": "xNfIMeUvSDyp",
        "outputId": "ef824766-39e5-4bcb-99fd-2adada726f44"
      },
      "execution_count": 74,
      "outputs": [
        {
          "output_type": "stream",
          "name": "stdout",
          "text": [
            "Olá, você acessou o Contrata Bot!\n",
            "\n",
            "Antes de te mostrar a oportunidade certa, vou precisar de algumas informações.\n",
            "Primeiro, digite o curso que você faz: Relações Internacionais\n",
            "E em qual período de curso você está? Primeiro Período\n",
            "Agora, digite a região que você quer encontrar vagas: Brasília\n",
            "Por fim, digite o cargo que você quer: Estágio\n",
            "Perfeito, vou procurar vagas para você!\n",
            "\n",
            "--- Vagas encontradas pelo agente 1 (Buscador) ---\n",
            "\n"
          ]
        },
        {
          "output_type": "display_data",
          "data": {
            "text/plain": [
              "<IPython.core.display.Markdown object>"
            ],
            "text/markdown": "> Encontrei algumas oportunidades de estágio em Relações Internacionais em Brasília, publicadas recentemente:\n> \n> *   **Banco Central do Brasil:** O Super Estágios está divulgando uma vaga de estágio para estudantes de Relações Internacionais a partir do 1º período. A bolsa é de R$ 1125,69, mais auxílio transporte de R$ 10,00 por dia. O estágio é de 6 horas, nos turnos matutino ou vespertino, no bairro Asa Sul. As atividades incluem atendimento telefônico, organização de documentos, elaboração de planilhas e relatórios, organização de eventos internacionais, comunicação em idiomas estrangeiros e relacionamento com instituições internacionais.\n> *   **CNA (Confederação da Agricultura e Pecuária do Brasil):** A CNA está contratando estagiário para atuação na Diretoria de Relações Internacionais, com foco na defesa de interesses do agro brasileiro em mercados internacionais. Período: 14/03/2025 – 28/03/2025.\n> *   **Grupo de Cooperação Internacional de Universidades Brasileiras (GCUB):** O GCUB está com uma vaga de estágio. Inscrições até 24 de janeiro de 2025.\n> *   **Oportunidades DF:** Há uma vaga de estágio em Relações Internacionais, com bolsa auxílio de R$ 1.500,00, carga horária de 6 horas diárias, em formato presencial no Setor Bancário Norte. É necessário estar cursando a partir do 5º semestre e ter fluência em inglês e espanhol.\n> \n> Além dessas, o Instituto de Relações Internacionais da Universidade de Brasília (IREL) promove eventos e atividades. A UFMG (Universidade Federal de Minas Gerais) apresentou possibilidades de cooperação nas áreas de ciências sociais e humanas em Brasília.\n> \n"
          },
          "metadata": {}
        },
        {
          "output_type": "stream",
          "name": "stdout",
          "text": [
            "----------------------------------------------------\n",
            "\n",
            "\n",
            "--- Essas são as vagas mais relevantes para você no momento---\n",
            "\n"
          ]
        },
        {
          "output_type": "display_data",
          "data": {
            "text/plain": [
              "<IPython.core.display.HTML object>"
            ],
            "text/html": [
              "\n",
              "        <a href=\"https://vertexaisearch.cloud.google.com/grounding-api-redirect/AbF9wXHktOXjNpc6tK3sjWPZUM5hFCV8etEcCZkAvCHsXvniDryMeKjBL56D8B4wjZaF4zuljd0381wmXNaVqBUUFHXTMFHqfvBZEukWuXbMalpiD8SGD-C1f49Bjs_dkOo9u5haW1PmhjWHATlTonpu-lgayE3Ruxs-k4agaDt81ek0OmiQ2TMEgN71895eHJRG\" target=\"_blank\" style=\"text-decoration:none;\">\n",
              "            <button style=\"\n",
              "                background-color:#4CAF50;\n",
              "                color:white;\n",
              "                padding:10px 20px;\n",
              "                margin:5px;\n",
              "                border:none;\n",
              "                border-radius:5px;\n",
              "                cursor:pointer;\n",
              "                font-size:16px;\n",
              "            \">Banco Central do Brasil</button>\n",
              "        </a>\n",
              "        "
            ]
          },
          "metadata": {}
        }
      ]
    }
  ]
}