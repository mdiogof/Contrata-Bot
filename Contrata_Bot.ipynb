{
  "nbformat": 4,
  "nbformat_minor": 0,
  "metadata": {
    "colab": {
      "provenance": [],
      "authorship_tag": "ABX9TyPUzBhRl0aNCd6b6nUu2ti9",
      "include_colab_link": true
    },
    "kernelspec": {
      "name": "python3",
      "display_name": "Python 3"
    },
    "language_info": {
      "name": "python"
    }
  },
  "cells": [
    {
      "cell_type": "markdown",
      "metadata": {
        "id": "view-in-github",
        "colab_type": "text"
      },
      "source": [
        "<a href=\"https://colab.research.google.com/github/mdiogof/Contrata-Bot/blob/main/Contrata_Bot.ipynb\" target=\"_parent\"><img src=\"https://colab.research.google.com/assets/colab-badge.svg\" alt=\"Open In Colab\"/></a>"
      ]
    },
    {
      "cell_type": "code",
      "execution_count": null,
      "metadata": {
        "id": "hsNGJmH24oqN"
      },
      "outputs": [],
      "source": [
        "%pip -q install google-genai"
      ]
    },
    {
      "cell_type": "code",
      "source": [
        "%pip -q install google-adk"
      ],
      "metadata": {
        "colab": {
          "base_uri": "https://localhost:8080/"
        },
        "id": "xpfO8iaKBK9W",
        "outputId": "fe5152c0-f496-428c-b358-3806837588b2"
      },
      "execution_count": null,
      "outputs": [
        {
          "output_type": "stream",
          "name": "stdout",
          "text": [
            "\u001b[?25l   \u001b[90m━━━━━━━━━━━━━━━━━━━━━━━━━━━━━━━━━━━━━━━━\u001b[0m \u001b[32m0.0/1.2 MB\u001b[0m \u001b[31m?\u001b[0m eta \u001b[36m-:--:--\u001b[0m\r\u001b[2K   \u001b[91m━━━━━━━━━━━━━━\u001b[0m\u001b[91m╸\u001b[0m\u001b[90m━━━━━━━━━━━━━━━━━━━━━━━━━\u001b[0m \u001b[32m0.4/1.2 MB\u001b[0m \u001b[31m13.2 MB/s\u001b[0m eta \u001b[36m0:00:01\u001b[0m\r\u001b[2K   \u001b[91m━━━━━━━━━━━━━━━━━━━━━━━━━━━━━━━━━━━━━━━\u001b[0m\u001b[91m╸\u001b[0m \u001b[32m1.2/1.2 MB\u001b[0m \u001b[31m20.2 MB/s\u001b[0m eta \u001b[36m0:00:01\u001b[0m\r\u001b[2K   \u001b[90m━━━━━━━━━━━━━━━━━━━━━━━━━━━━━━━━━━━━━━━━\u001b[0m \u001b[32m1.2/1.2 MB\u001b[0m \u001b[31m13.8 MB/s\u001b[0m eta \u001b[36m0:00:00\u001b[0m\n",
            "\u001b[?25h\u001b[?25l   \u001b[90m━━━━━━━━━━━━━━━━━━━━━━━━━━━━━━━━━━━━━━━━\u001b[0m \u001b[32m0.0/232.1 kB\u001b[0m \u001b[31m?\u001b[0m eta \u001b[36m-:--:--\u001b[0m\r\u001b[2K   \u001b[90m━━━━━━━━━━━━━━━━━━━━━━━━━━━━━━━━━━━━━━━━\u001b[0m \u001b[32m232.1/232.1 kB\u001b[0m \u001b[31m14.6 MB/s\u001b[0m eta \u001b[36m0:00:00\u001b[0m\n",
            "\u001b[?25h\u001b[?25l   \u001b[90m━━━━━━━━━━━━━━━━━━━━━━━━━━━━━━━━━━━━━━━━\u001b[0m \u001b[32m0.0/95.2 kB\u001b[0m \u001b[31m?\u001b[0m eta \u001b[36m-:--:--\u001b[0m\r\u001b[2K   \u001b[90m━━━━━━━━━━━━━━━━━━━━━━━━━━━━━━━━━━━━━━━━\u001b[0m \u001b[32m95.2/95.2 kB\u001b[0m \u001b[31m7.3 MB/s\u001b[0m eta \u001b[36m0:00:00\u001b[0m\n",
            "\u001b[2K   \u001b[90m━━━━━━━━━━━━━━━━━━━━━━━━━━━━━━━━━━━━━━━━\u001b[0m \u001b[32m217.1/217.1 kB\u001b[0m \u001b[31m12.6 MB/s\u001b[0m eta \u001b[36m0:00:00\u001b[0m\n",
            "\u001b[2K   \u001b[90m━━━━━━━━━━━━━━━━━━━━━━━━━━━━━━━━━━━━━━━━\u001b[0m \u001b[32m334.1/334.1 kB\u001b[0m \u001b[31m19.0 MB/s\u001b[0m eta \u001b[36m0:00:00\u001b[0m\n",
            "\u001b[2K   \u001b[90m━━━━━━━━━━━━━━━━━━━━━━━━━━━━━━━━━━━━━━━━\u001b[0m \u001b[32m125.1/125.1 kB\u001b[0m \u001b[31m8.5 MB/s\u001b[0m eta \u001b[36m0:00:00\u001b[0m\n",
            "\u001b[2K   \u001b[90m━━━━━━━━━━━━━━━━━━━━━━━━━━━━━━━━━━━━━━━━\u001b[0m \u001b[32m65.8/65.8 kB\u001b[0m \u001b[31m4.4 MB/s\u001b[0m eta \u001b[36m0:00:00\u001b[0m\n",
            "\u001b[2K   \u001b[90m━━━━━━━━━━━━━━━━━━━━━━━━━━━━━━━━━━━━━━━━\u001b[0m \u001b[32m119.0/119.0 kB\u001b[0m \u001b[31m8.0 MB/s\u001b[0m eta \u001b[36m0:00:00\u001b[0m\n",
            "\u001b[2K   \u001b[90m━━━━━━━━━━━━━━━━━━━━━━━━━━━━━━━━━━━━━━━━\u001b[0m \u001b[32m194.9/194.9 kB\u001b[0m \u001b[31m9.3 MB/s\u001b[0m eta \u001b[36m0:00:00\u001b[0m\n",
            "\u001b[2K   \u001b[90m━━━━━━━━━━━━━━━━━━━━━━━━━━━━━━━━━━━━━━━━\u001b[0m \u001b[32m62.5/62.5 kB\u001b[0m \u001b[31m4.2 MB/s\u001b[0m eta \u001b[36m0:00:00\u001b[0m\n",
            "\u001b[2K   \u001b[90m━━━━━━━━━━━━━━━━━━━━━━━━━━━━━━━━━━━━━━━━\u001b[0m \u001b[32m103.3/103.3 kB\u001b[0m \u001b[31m6.0 MB/s\u001b[0m eta \u001b[36m0:00:00\u001b[0m\n",
            "\u001b[2K   \u001b[90m━━━━━━━━━━━━━━━━━━━━━━━━━━━━━━━━━━━━━━━━\u001b[0m \u001b[32m44.4/44.4 kB\u001b[0m \u001b[31m2.8 MB/s\u001b[0m eta \u001b[36m0:00:00\u001b[0m\n",
            "\u001b[2K   \u001b[90m━━━━━━━━━━━━━━━━━━━━━━━━━━━━━━━━━━━━━━━━\u001b[0m \u001b[32m72.0/72.0 kB\u001b[0m \u001b[31m5.0 MB/s\u001b[0m eta \u001b[36m0:00:00\u001b[0m\n",
            "\u001b[?25h"
          ]
        }
      ]
    },
    {
      "cell_type": "code",
      "source": [
        "import os\n",
        "from google.colab import userdata\n",
        "\n",
        "os.environ[\"GOOGLE_API_KEY\"] = userdata.get('GOOGLE_API_KEY')"
      ],
      "metadata": {
        "id": "IdEcjBdv6iBt"
      },
      "execution_count": null,
      "outputs": []
    },
    {
      "cell_type": "code",
      "source": [
        "from google.adk.agents import Agent\n",
        "from google.adk.runners import Runner\n",
        "from google.adk.sessions import InMemorySessionService\n",
        "from google.adk.tools import google_search\n",
        "from google.genai import types\n",
        "from datetime import date\n",
        "import textwrap\n",
        "from IPython.display import Markdown, display\n",
        "from IPython.display import display, HTML\n",
        "import requests\n",
        "import warnings\n",
        "import json\n",
        "import re\n",
        "\n",
        "warnings.filterwarnings(\"ignore\")"
      ],
      "metadata": {
        "id": "LkGnMQJz7Oj3"
      },
      "execution_count": null,
      "outputs": []
    },
    {
      "cell_type": "code",
      "source": [
        "# Função auxiliar que envia uma mensagem para um agente via Runner e retorna a resposta final\n",
        "def call_agent(agent: Agent, message_text: str) -> str:\n",
        "    # Cria um serviço de sessão em memória\n",
        "    session_service = InMemorySessionService()\n",
        "    # Cria uma nova sessão (você pode personalizar os IDs conforme necessário)\n",
        "    session = session_service.create_session(app_name=agent.name, user_id=\"user1\", session_id=\"session1\")\n",
        "    # Cria um Runner para o agente\n",
        "    runner = Runner(agent=agent, app_name=agent.name, session_service=session_service)\n",
        "    # Cria o conteúdo da mensagem de entrada\n",
        "    content = types.Content(role=\"user\", parts=[types.Part(text=message_text)])\n",
        "\n",
        "    final_response = \"\"\n",
        "    # Itera assincronamente pelos eventos retornados durante a execução do agente\n",
        "    for event in runner.run(user_id=\"user1\", session_id=\"session1\", new_message=content):\n",
        "        if event.is_final_response():\n",
        "          for part in event.content.parts:\n",
        "            if part.text is not None:\n",
        "              final_response += part.text\n",
        "              final_response += \"\\n\"\n",
        "    return final_response"
      ],
      "metadata": {
        "id": "EwFCbSSwCQvS"
      },
      "execution_count": null,
      "outputs": []
    },
    {
      "cell_type": "code",
      "source": [
        "def to_markdown(text):\n",
        "  text = text.replace('•', '  *')\n",
        "  return Markdown(textwrap.indent(text, '> ', predicate = lambda _: True))"
      ],
      "metadata": {
        "id": "XPsAosEYEeNK"
      },
      "execution_count": null,
      "outputs": []
    },
    {
      "cell_type": "code",
      "source": [
        "def agente_buscador(curso, local, cargo, data_de_hoje):\n",
        "  buscador = Agent(\n",
        "      name = \"agente_buscador\",\n",
        "      model = \"gemini-2.0-flash\",\n",
        "      instruction = \"\"\"\n",
        "      Você é um assistente de busca. Sua função é usar a ferramenta de pesquisa\n",
        "      do Google (google_search) para encontrar vagas de emprego, baseando-se no\n",
        "      curso informado abaixo. Considere também o local informado e o cargo\n",
        "      desejado na empresa. Essa busca deve focar em ofertas de emprego atuais,\n",
        "      de no máximo duas semanas antes da data de hoje. Confira se a vaga ainda\n",
        "      está aberta e inclua a data de publicação de cada vaga.\n",
        "      \"\"\",\n",
        "      description = \"Agente que encontra vagas de emprego no Google\",\n",
        "      tools = [google_search]\n",
        "  )\n",
        "\n",
        "  entrada_agente_buscador = f\"Curso: {curso}\\nLocal: {local}\\nCargo: {cargo}\\nData de hoje: {data_de_hoje}\"\n",
        "  vagas = call_agent(buscador, entrada_agente_buscador)\n",
        "  return vagas"
      ],
      "metadata": {
        "id": "dHp4OdIBFHi9"
      },
      "execution_count": null,
      "outputs": []
    },
    {
      "cell_type": "code",
      "source": [
        "def agente_seletor(vagas_encontradas, periodo):\n",
        "    seletor = Agent(\n",
        "        name=\"agente_seletor\",\n",
        "        model=\"gemini-2.0-flash\",\n",
        "        instruction=\"\"\"\n",
        "        Você é um agente seletor de vagas de emprego para estudantes do ensino superior.\n",
        "        Sua função é refinar a seleção das vagas com base na relevância em relação ao período de curso informado.\n",
        "\n",
        "        🔸 Responda apenas com um JSON puro como este:\n",
        "        [\n",
        "          {\"titulo\": \"Estágio em Desenvolvimento - Empresa X\", \"link\": \"https://example.com/vaga1\"},\n",
        "          {\"titulo\": \"Estágio em Hardware - Empresa Y\", \"link\": \"https://example.com/vaga2\"}\n",
        "        ]\n",
        "\n",
        "        ⚠️ Não inclua texto explicativo, markdown ou código markdown (```json).\n",
        "        ⚠️ Não invente vagas, use apenas as fornecidas.\n",
        "        \"\"\",\n",
        "        description=\"Agente que refina a busca de vagas de emprego\",\n",
        "        tools=[google_search]\n",
        "    )\n",
        "\n",
        "    entrada = f\"Vagas: {vagas_encontradas}\\nPeríodo: {periodo}\"\n",
        "    resposta = call_agent(seletor, entrada)\n",
        "\n",
        "    # Extração de JSON usando expressão regular\n",
        "    match = re.search(r'\\[.*?\\]', resposta, re.DOTALL)\n",
        "    if match:\n",
        "        try:\n",
        "            vagas_json = json.loads(match.group())\n",
        "            return vagas_json\n",
        "        except json.JSONDecodeError:\n",
        "            print(\"⚠️ Erro ao decodificar JSON.\")\n",
        "            return []\n",
        "    else:\n",
        "        print(\"⚠️ Nenhum JSON válido encontrado na resposta.\")\n",
        "        return []"
      ],
      "metadata": {
        "id": "F-DNzYLxLRJg"
      },
      "execution_count": null,
      "outputs": []
    },
    {
      "cell_type": "code",
      "source": [
        "def exibidor_de_links(vagas_selecionadas):\n",
        "    # Gerar os botões HTML com base nas vagas\n",
        "    botoes_html = \"\"\n",
        "    for vaga in vagas_selecionadas:\n",
        "        titulo = vaga[\"titulo\"]\n",
        "        link = vaga[\"link\"]\n",
        "        botoes_html += f\"\"\"\n",
        "        <a href=\"{link}\" target=\"_blank\" style=\"text-decoration:none;\">\n",
        "            <button style=\"\n",
        "                background-color:#4CAF50;\n",
        "                color:white;\n",
        "                padding:10px 20px;\n",
        "                margin:5px;\n",
        "                border:none;\n",
        "                border-radius:5px;\n",
        "                cursor:pointer;\n",
        "                font-size:16px;\n",
        "            \">{titulo}</button>\n",
        "        </a>\n",
        "        \"\"\"\n",
        "\n",
        "    # Exibir os botões\n",
        "    return botoes_html"
      ],
      "metadata": {
        "id": "_hDZtQpTajG1"
      },
      "execution_count": null,
      "outputs": []
    },
    {
      "cell_type": "code",
      "source": [
        "data_de_hoje = date.today().strftime(\"%d/%m/%Y\")\n",
        "\n",
        "print(\"\"\"Olá, você acessou o Contrata Bot!\\n\n",
        "Antes de te mostrar a oportunidade certa, vou precisar de algumas informações.\"\"\")\n",
        "curso = input(\"Primeiro, digite o curso que você faz: \")\n",
        "periodo = input(\"E em qual período de curso você está? \")\n",
        "local = input(\"Agora, digite a região que você quer encontrar vagas: \")\n",
        "cargo = input(\"Por fim, digite o cargo que você quer: \")\n",
        "\n",
        "if not curso or not local or not cargo:\n",
        "  print(\"Você precisa preencher todos os campos!\")\n",
        "else:\n",
        "  print(\"Perfeito, vou procurar vagas para você!\")\n",
        "\n",
        "  vagas = agente_buscador(curso, local, cargo, data_de_hoje)\n",
        "  print(\"\\n--- Vagas encontradas pelo agente 1 (Buscador) ---\\n\")\n",
        "  display(to_markdown(vagas))\n",
        "  print(\"----------------------------------------------------\\n\")\n",
        "\n",
        "  vagas_selecionadas = agente_seletor(vagas, periodo)\n",
        "  print(\"\\n--- Essas são as vagas mais relevantes para você no momento---\\n\")\n",
        "  display(HTML(exibidor_de_links(vagas_selecionadas)))"
      ],
      "metadata": {
        "colab": {
          "base_uri": "https://localhost:8080/",
          "height": 811
        },
        "id": "xNfIMeUvSDyp",
        "outputId": "9133b751-122b-4b7e-bbeb-2f7a39ad72e8"
      },
      "execution_count": 11,
      "outputs": [
        {
          "output_type": "stream",
          "name": "stdout",
          "text": [
            "Olá, você acessou o Contrata Bot!\n",
            "\n",
            "Antes de te mostrar a oportunidade certa, vou precisar de algumas informações.\n",
            "Primeiro, digite o curso que você faz: engenharia de computação\n",
            "E em qual período de curso você está? 1º semestre\n",
            "Agora, digite a região que você quer encontrar vagas: Sorocaba-SP\n",
            "Por fim, digite o cargo que você quer: estágio\n",
            "Perfeito, vou procurar vagas para você!\n",
            "\n",
            "--- Vagas encontradas pelo agente 1 (Buscador) ---\n",
            "\n"
          ]
        },
        {
          "output_type": "display_data",
          "data": {
            "text/plain": [
              "<IPython.core.display.Markdown object>"
            ],
            "text/markdown": "> Ok, vou procurar por vagas de estágio em Engenharia de Computação em Sorocaba-SP, com data de publicação de no máximo duas semanas.\n> \n> \n> Encontrei algumas opções de vagas de estágio em Engenharia da Computação em Sorocaba, SP. É importante verificar a data de publicação para garantir que ainda estejam abertas.\n> \n> **Vagas encontradas:**\n> \n> *   **Prefeitura de Sorocaba e CIEE:** Estão com inscrições abertas para processo seletivo de vagas de estágio em diversas áreas, incluindo Engenharia da Computação. As inscrições vão até 17 de janeiro de 2022. Os estagiários contratados receberão bolsa-auxílio de R$ 720 a R$ 900, além de auxílio-transporte de R$ 184,80. A carga horária é de 4 a 5 horas diárias. Para se inscrever, acesse: [https://pp.ciee.org.br/vitrine/3686/detalhe](https://pp.ciee.org.br/vitrine/3686/detalhe).\n> *   **Indeed:** No dia 12 de maio de 2025, foram listadas 3 vagas de Engenharia da Computação em Sorocaba, SP. As vagas são para Analista de Testes II, Analista de Desenvolvimento de Software I e Analista de Desenvolvimento de Software III - Full Stack na Flex LTD.\n> *   **Jooble:** Foram encontradas 934 vagas de estágio em Engenharia da Computação em Sorocaba, SP. Algumas das vagas listadas são: Estágio em Engenharia Civil - Obras na EKV Construtora (há 1 dia), Estágio em Engenharia na Facens (há 1 dia), Estágio em Engenharia de Produção na Employer RH (há 2 meses).\n> \n> **Outras oportunidades:**\n> \n> *   **Embraer:** A Embraer está com inscrições abertas para o programa de estágio em São José dos Campos (SP), com 200 vagas para estudantes de Tecnologia, Administração e Engenharia. A bolsa-auxílio pode chegar até R$ 2.400, além de benefícios.\n> \n> **Observações:**\n> \n> *   A pesquisa retornou vagas com datas diversas. É fundamental verificar a data de publicação e confirmar se a vaga ainda está disponível antes de se candidatar.\n> *   O site da prefeitura de Sorocaba também pode ter informações sobre programas de estágio.\n"
          },
          "metadata": {}
        },
        {
          "output_type": "stream",
          "name": "stdout",
          "text": [
            "----------------------------------------------------\n",
            "\n",
            "\n",
            "--- Essas são as vagas mais relevantes para você no momento---\n",
            "\n"
          ]
        },
        {
          "output_type": "display_data",
          "data": {
            "text/plain": [
              "<IPython.core.display.HTML object>"
            ],
            "text/html": [
              "\n",
              "        <a href=\"https://www.indeed.com.br/vagas?q=Engenharia+Da+Computa%C3%A7%C3%A3o&l=Sorocaba%2C+SP\" target=\"_blank\" style=\"text-decoration:none;\">\n",
              "            <button style=\"\n",
              "                background-color:#4CAF50;\n",
              "                color:white;\n",
              "                padding:10px 20px;\n",
              "                margin:5px;\n",
              "                border:none;\n",
              "                border-radius:5px;\n",
              "                cursor:pointer;\n",
              "                font-size:16px;\n",
              "            \">Analista de Testes II - Flex LTD</button>\n",
              "        </a>\n",
              "        \n",
              "        <a href=\"https://www.indeed.com.br/vagas?q=Engenharia+Da+Computa%C3%A7%C3%A3o&l=Sorocaba%2C+SP\" target=\"_blank\" style=\"text-decoration:none;\">\n",
              "            <button style=\"\n",
              "                background-color:#4CAF50;\n",
              "                color:white;\n",
              "                padding:10px 20px;\n",
              "                margin:5px;\n",
              "                border:none;\n",
              "                border-radius:5px;\n",
              "                cursor:pointer;\n",
              "                font-size:16px;\n",
              "            \">Analista de Desenvolvimento de Software I - Flex LTD</button>\n",
              "        </a>\n",
              "        \n",
              "        <a href=\"https://www.jooble.org/vagas-est%C3%A1gio-em-engenharia-da-computa%C3%A7%C3%A3o/estado-S%C3%A3o%20Paulo/cidade-Sorocaba\" target=\"_blank\" style=\"text-decoration:none;\">\n",
              "            <button style=\"\n",
              "                background-color:#4CAF50;\n",
              "                color:white;\n",
              "                padding:10px 20px;\n",
              "                margin:5px;\n",
              "                border:none;\n",
              "                border-radius:5px;\n",
              "                cursor:pointer;\n",
              "                font-size:16px;\n",
              "            \">Estágio em Engenharia Civil - Obras na EKV Construtora</button>\n",
              "        </a>\n",
              "        "
            ]
          },
          "metadata": {}
        }
      ]
    }
  ]
}